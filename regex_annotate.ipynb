{
 "cells": [
  {
   "cell_type": "markdown",
   "metadata": {},
   "source": [
    "# Regex annotation"
   ]
  },
  {
   "cell_type": "code",
   "execution_count": 17,
   "metadata": {},
   "outputs": [],
   "source": [
    "import numpy       as np\n",
    "import os\n",
    "import json\n",
    "\n",
    "data_directory = \"/enc_data/eddata/organized-data/\""
   ]
  },
  {
   "cell_type": "markdown",
   "metadata": {},
   "source": [
    "## Regex + parsing"
   ]
  },
  {
   "cell_type": "code",
   "execution_count": 2,
   "metadata": {},
   "outputs": [],
   "source": [
    "with open('pacemaker_words.json', 'r') as f: \n",
    "    pacemaker_words = json.load(f)"
   ]
  },
  {
   "cell_type": "code",
   "execution_count": 8,
   "metadata": {},
   "outputs": [],
   "source": [
    "positive_filenames = set([])\n",
    "negative_filenames = set([])\n",
    "\n",
    "for patient_id in os.listdir(data_directory): \n",
    "    is_pacemaker = False\n",
    "    \n",
    "    for report_filename in os.listdir(data_directory + patient_id): \n",
    "        if not report_filename.endswith('.res') or is_pacemaker: \n",
    "            continue\n",
    "        \n",
    "        with open(data_directory + patient_id + '/' + report_filename, 'r') as f: \n",
    "            for row in f: \n",
    "                splitted = set(row.lower().replace('/', ' / ').split())\n",
    "                \n",
    "                if any([word in splitted for word in pacemaker_words]): \n",
    "                    is_pacemaker = True\n",
    "                    positive_filenames.add(patient_id + \"/\" + report_filename)\n",
    "                    break\n",
    "                    \n",
    "    if not is_pacemaker: \n",
    "        negative_filenames.add(patient_id)\n",
    "        \n",
    "with open(\"results/regex_ann/pos.json\", 'w') as f: \n",
    "    json.dump(list(positive_filenames), f)\n",
    "with open(\"results/regex_ann/neg.json\", 'w') as f: \n",
    "    json.dump(list(negative_filenames), f)"
   ]
  },
  {
   "cell_type": "code",
   "execution_count": 9,
   "metadata": {
    "scrolled": true
   },
   "outputs": [
    {
     "name": "stdout",
     "output_type": "stream",
     "text": [
      "2147 43875\n"
     ]
    }
   ],
   "source": [
    "print len(positive_filenames), len(negative_filenames)"
   ]
  },
  {
   "cell_type": "markdown",
   "metadata": {},
   "source": [
    "## Evaluation"
   ]
  },
  {
   "cell_type": "code",
   "execution_count": 18,
   "metadata": {},
   "outputs": [
    {
     "name": "stdout",
     "output_type": "stream",
     "text": [
      "True\n"
     ]
    }
   ],
   "source": [
    "true_pos = set([])\n",
    "predicted_pos = set([])\n",
    "\n",
    "with open('/enc_data/eddata/clipnum_with_pacemaker.txt', 'r') as f: \n",
    "    for row in f: \n",
    "        pos = row.split('/')[0]\n",
    "        if os.path.exists(data_directory + pos): \n",
    "            true_pos.add(pos)\n",
    "        \n",
    "with open('results/regex_ann/pos.json', 'r') as f: \n",
    "    predicted_filenames = json.load(f)\n",
    "    for filename in predicted_filenames: \n",
    "        predicted_pos.add(filename.split(\"/\")[0])\n",
    "        \n",
    "print np.all([ pos in predicted_pos for pos in true_pos ])"
   ]
  },
  {
   "cell_type": "markdown",
   "metadata": {},
   "source": [
    "Sensitivity: 100%\n",
    "PPV: 100%"
   ]
  },
  {
   "cell_type": "code",
   "execution_count": null,
   "metadata": {},
   "outputs": [],
   "source": []
  }
 ],
 "metadata": {
  "kernelspec": {
   "display_name": "pacemaker py2.7",
   "language": "python",
   "name": "pacemaker"
  },
  "language_info": {
   "codemirror_mode": {
    "name": "ipython",
    "version": 2
   },
   "file_extension": ".py",
   "mimetype": "text/x-python",
   "name": "python",
   "nbconvert_exporter": "python",
   "pygments_lexer": "ipython2",
   "version": "2.7.12"
  }
 },
 "nbformat": 4,
 "nbformat_minor": 2
}
