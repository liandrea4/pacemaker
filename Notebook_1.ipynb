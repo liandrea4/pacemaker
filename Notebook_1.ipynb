{
 "cells": [
  {
   "cell_type": "code",
   "execution_count": 1,
   "metadata": {},
   "outputs": [
    {
     "name": "stderr",
     "output_type": "stream",
     "text": [
      "Using TensorFlow backend.\n"
     ]
    }
   ],
   "source": [
    "import dicom\n",
    "import matplotlib.pyplot as plt\n",
    "import numpy as np\n",
    "import os\n",
    "import PIL\n",
    "\n",
    "from sklearn.model_selection import train_test_split\n",
    "from dicom.contrib.pydicom_PIL import show_PIL\n",
    "from keras.preprocessing.image import img_to_array, load_img"
   ]
  },
  {
   "cell_type": "code",
   "execution_count": 2,
   "metadata": {},
   "outputs": [
    {
     "name": "stdout",
     "output_type": "stream",
     "text": [
      "Number of patients: 46022\n"
     ]
    }
   ],
   "source": [
    "dirPath = '/enc_data/eddata/pacemaker'\n",
    "dataPath = os.path.join(dirPath, 'organized-data')\n",
    "allPatients = os.listdir(dataPath)\n",
    "print('Number of patients: {}'.format(len(allPatients)))"
   ]
  },
  {
   "cell_type": "markdown",
   "metadata": {},
   "source": [
    "### Build a data structure that stores the files for each patient and their clipnum"
   ]
  },
  {
   "cell_type": "code",
   "execution_count": 3,
   "metadata": {},
   "outputs": [
    {
     "name": "stdout",
     "output_type": "stream",
     "text": [
      "0\n",
      "10000\n",
      "20000\n",
      "30000\n",
      "40000\n"
     ]
    }
   ],
   "source": [
    "\"\"\" \n",
    "patientsFiles:\n",
    "    patientID:\n",
    "        clipnum: ['1065325/6132532-2206-09-09-0948-POSTERO-ANTERIOR.dcm']\n",
    "        clipnum: []\n",
    "\"\"\"\n",
    "patientsFiles = {}\n",
    "\n",
    "for i, patient in enumerate(allPatients):\n",
    "    if i%10000 == 0: print(i)\n",
    "        \n",
    "    patientFiles = patientsFiles.setdefault(patient, {})\n",
    "    \n",
    "    files = os.listdir(os.path.join(dataPath, patient))\n",
    "    for f in files:\n",
    "        clipnum = f.split('-')[0]\n",
    "        \n",
    "        clipFiles = patientFiles.setdefault(clipnum, [])\n",
    "        clipFiles.append(os.path.join(patient, f))\n",
    "\n",
    "    # if f.endswith('.dcm') and 'LATERAL' not in f:\n",
    "    # if f.endswith('.res'):"
   ]
  },
  {
   "cell_type": "code",
   "execution_count": 4,
   "metadata": {},
   "outputs": [],
   "source": [
    "def show_dicom(f):\n",
    "    print(f)\n",
    "    ds = dicom.read_file(os.path.join(dataPath, f))\n",
    "    ds.BitsAllocated = 16 # 16-bit allocation instead of 12-bit allocation\n",
    "    plt.figure(figsize=[10,10])\n",
    "    plt.imshow(ds.pixel_array, cmap=plt.cm.bone)\n",
    "    plt.show()"
   ]
  },
  {
   "cell_type": "code",
   "execution_count": 5,
   "metadata": {},
   "outputs": [
    {
     "name": "stdout",
     "output_type": "stream",
     "text": [
      "Number of patients with pacemaker: 86\n"
     ]
    }
   ],
   "source": [
    "## Read the patients that have pacemakers \n",
    "f = open(os.path.join(dirPath, \"clipnum_with_pacemaker.txt\"))\n",
    "patientsPacemkr = f.read().strip().split('\\n')\n",
    "print(\"Number of patients with pacemaker: {}\".format(len(patientsPacemkr)))"
   ]
  },
  {
   "cell_type": "code",
   "execution_count": 6,
   "metadata": {},
   "outputs": [
    {
     "name": "stdout",
     "output_type": "stream",
     "text": [
      "Number of clipnums without file: 30\n",
      "Number of total files: 117\n",
      "Number of dicom  file: 56\n"
     ]
    }
   ],
   "source": [
    "pacemakerFiles_all = []\n",
    "pacemakerFiles_dicom = []\n",
    "\n",
    "count = 0\n",
    "for f in patientsPacemkr:\n",
    "    patient, clipnum = f.split('/')\n",
    "    try:\n",
    "        files = patientsFiles[patient][clipnum]\n",
    "        pacemakerFiles_all += files\n",
    "        pacemakerFiles_dicom += [f for f in files if f.endswith('.dcm') and 'LATERAL' not in f and 'CHEST' not in f]\n",
    "    except:\n",
    "        count += 1\n",
    "        \n",
    "print('Number of clipnums without file: {}'.format(count))\n",
    "print('Number of total files: {}'.format(len(pacemakerFiles_all)))\n",
    "print('Number of dicom  file: {}'.format(len(pacemakerFiles_dicom)))"
   ]
  },
  {
   "cell_type": "markdown",
   "metadata": {},
   "source": [
    "# Generate dataset of whole xray images"
   ]
  },
  {
   "cell_type": "code",
   "execution_count": 7,
   "metadata": {},
   "outputs": [],
   "source": [
    "def get_PIL(dataset):\n",
    "    \"\"\" Converts dicom dataset file to PIL files that can be imported into Keras \"\"\"\n",
    "    \n",
    "    def get_LUT_value(data, window, level):\n",
    "        \"\"\"Apply the RGB Look-Up Table for the given data and window/level value.\"\"\"\n",
    "        \n",
    "        ##### UNSURE IF I CAN DO THIS #####\n",
    "        if isinstance(window, list):\n",
    "            window = window[0]\n",
    "        if isinstance(level, list):\n",
    "            level = level[0]\n",
    "            \n",
    "        return np.piecewise(data, \n",
    "            [data <= (level - 0.5 - (window-1)/2),\n",
    "                data > (level - 0.5 + (window-1)/2)],\n",
    "                [0, 255, lambda data: ((data - (level - 0.5))/(window-1) + 0.5)*(255-0)])\n",
    "\n",
    "    image = get_LUT_value(dataset.pixel_array, dataset.WindowWidth, dataset.WindowCenter)\n",
    "    im = PIL.Image.fromarray(image).convert('L') # Convert mode to L since LUT has only 256 values: http://www.pythonware.com/library/pil/handbook/image.htm\n",
    "\n",
    "    return im"
   ]
  },
  {
   "cell_type": "code",
   "execution_count": 11,
   "metadata": {},
   "outputs": [],
   "source": [
    "def getRatio(filename):\n",
    "    ds = dicom.read_file(os.path.join(dataPath, f))\n",
    "    img = get_PIL(ds)\n",
    "    x = img_to_array(img) # this is a Numpy array with shape (3, 300, 300)\n",
    "    ratio = x.shape[1]/float(x.shape[0])\n",
    "    print('shape: {}, ratio: {}'.format(x.shape, ratio))\n",
    "    return ratio"
   ]
  },
  {
   "cell_type": "code",
   "execution_count": 12,
   "metadata": {},
   "outputs": [],
   "source": [
    "def loadDicom(filename):\n",
    "    ds = dicom.read_file(os.path.join(dataPath, f))\n",
    "    img = get_PIL(ds)\n",
    "    x = img_to_array(img) # this is a Numpy array with shape (3, 300, 300)\n",
    "    return x"
   ]
  },
  {
   "cell_type": "code",
   "execution_count": 9,
   "metadata": {},
   "outputs": [],
   "source": [
    "def crop_center(img,cropx,cropy):\n",
    "    y,x = img.shape\n",
    "    startx = x//2-(cropx//2)\n",
    "    starty = y//2-(cropy//2)    \n",
    "    return img[starty:starty+cropy,startx:startx+cropx]"
   ]
  },
  {
   "cell_type": "code",
   "execution_count": 13,
   "metadata": {
    "collapsed": true
   },
   "outputs": [
    {
     "name": "stdout",
     "output_type": "stream",
     "text": [
      "shape: (2544, 3056, 1), ratio: 1.20125786164\n",
      "shape: (3056, 2544, 1), ratio: 0.832460732984\n",
      "shape: (3056, 2544, 1), ratio: 0.832460732984\n",
      "shape: (3056, 2544, 1), ratio: 0.832460732984\n",
      "shape: (3056, 2544, 1), ratio: 0.832460732984\n",
      "shape: (2540, 3056, 1), ratio: 1.2031496063\n",
      "shape: (2540, 3056, 1), ratio: 1.2031496063\n",
      "shape: (3056, 2544, 1), ratio: 0.832460732984\n",
      "shape: (3056, 2544, 1), ratio: 0.832460732984\n",
      "shape: (3056, 2544, 1), ratio: 0.832460732984\n",
      "shape: (3056, 2544, 1), ratio: 0.832460732984\n",
      "shape: (2791, 2488, 1), ratio: 0.891436761018\n",
      "shape: (1949, 1774, 1), ratio: 0.910210364289\n",
      "shape: (2544, 3056, 1), ratio: 1.20125786164\n",
      "shape: (3056, 2544, 1), ratio: 0.832460732984\n",
      "shape: (3056, 2544, 1), ratio: 0.832460732984\n",
      "shape: (2544, 3056, 1), ratio: 1.20125786164\n",
      "shape: (2544, 2866, 1), ratio: 1.12657232704\n",
      "shape: (2472, 2544, 1), ratio: 1.02912621359\n",
      "shape: (2791, 2488, 1), ratio: 0.891436761018\n",
      "shape: (2544, 3056, 1), ratio: 1.20125786164\n",
      "shape: (3056, 2544, 1), ratio: 0.832460732984\n",
      "shape: (2544, 3056, 1), ratio: 1.20125786164\n",
      "shape: (3056, 2544, 1), ratio: 0.832460732984\n",
      "shape: (3056, 2544, 1), ratio: 0.832460732984\n",
      "shape: (3052, 2544, 1), ratio: 0.833551769332\n",
      "shape: (2987, 2404, 1), ratio: 0.804820890526\n",
      "shape: (2326, 3010, 1), ratio: 1.29406706793\n",
      "shape: (2544, 3056, 1), ratio: 1.20125786164\n",
      "shape: (3056, 2068, 1), ratio: 0.676701570681\n",
      "shape: (3056, 2544, 1), ratio: 0.832460732984\n",
      "shape: (3056, 2544, 1), ratio: 0.832460732984\n",
      "shape: (3056, 2215, 1), ratio: 0.724803664921\n",
      "shape: (2544, 3056, 1), ratio: 1.20125786164\n",
      "shape: (2544, 3056, 1), ratio: 1.20125786164\n",
      "shape: (3056, 2544, 1), ratio: 0.832460732984\n",
      "shape: (3056, 2544, 1), ratio: 0.832460732984\n",
      "shape: (3028, 2544, 1), ratio: 0.840158520476\n",
      "shape: (3028, 2544, 1), ratio: 0.840158520476\n",
      "shape: (2544, 3056, 1), ratio: 1.20125786164\n",
      "shape: (3056, 2544, 1), ratio: 0.832460732984\n",
      "shape: (2544, 3056, 1), ratio: 1.20125786164\n",
      "shape: (2544, 3056, 1), ratio: 1.20125786164\n",
      "shape: (2527, 2544, 1), ratio: 1.00672734468\n",
      "shape: (3056, 2050, 1), ratio: 0.670811518325\n",
      "shape: (3056, 2544, 1), ratio: 0.832460732984\n",
      "shape: (2544, 3056, 1), ratio: 1.20125786164\n",
      "shape: (2856, 2544, 1), ratio: 0.890756302521\n",
      "shape: (3056, 2544, 1), ratio: 0.832460732984\n",
      "shape: (3056, 2544, 1), ratio: 0.832460732984\n",
      "shape: (2856, 2544, 1), ratio: 0.890756302521\n",
      "shape: (3031, 2512, 1), ratio: 0.828769383042\n",
      "shape: (3056, 2544, 1), ratio: 0.832460732984\n",
      "shape: (3056, 2068, 1), ratio: 0.676701570681\n",
      "shape: (2884, 2544, 1), ratio: 0.882108183079\n",
      "shape: (3056, 2544, 1), ratio: 0.832460732984\n"
     ]
    }
   ],
   "source": [
    "ratios = [getRatio(f) for f in pacemakerFiles_dicom]"
   ]
  },
  {
   "cell_type": "code",
   "execution_count": 16,
   "metadata": {},
   "outputs": [
    {
     "data": {
      "image/png": "[encoded data removed]",
      "text/plain": [
       "<matplotlib.figure.Figure at 0x7f15237ca710>"
      ]
     },
     "metadata": {},
     "output_type": "display_data"
    }
   ],
   "source": [
    "plt.hist(ratios)\n",
    "plt.show()"
   ]
  },
  {
   "cell_type": "code",
   "execution_count": 10,
   "metadata": {},
   "outputs": [
    {
     "name": "stdout",
     "output_type": "stream",
     "text": [
      "shape: (2544, 3056, 1), ratio: 1.20125786164\n",
      "shape: (3056, 2544, 1), ratio: 0.832460732984\n",
      "shape: (3056, 2544, 1), ratio: 0.832460732984\n",
      "shape: (3056, 2544, 1), ratio: 0.832460732984\n",
      "shape: (3056, 2544, 1), ratio: 0.832460732984\n",
      "shape: (2540, 3056, 1), ratio: 1.2031496063\n",
      "shape: (2540, 3056, 1), ratio: 1.2031496063\n",
      "shape: (3056, 2544, 1), ratio: 0.832460732984\n",
      "shape: (3056, 2544, 1), ratio: 0.832460732984\n",
      "shape: (3056, 2544, 1), ratio: 0.832460732984\n",
      "shape: (3056, 2544, 1), ratio: 0.832460732984\n",
      "shape: (2791, 2488, 1), ratio: 0.891436761018\n",
      "shape: (1949, 1774, 1), ratio: 0.910210364289\n",
      "shape: (2544, 3056, 1), ratio: 1.20125786164\n",
      "shape: (3056, 2544, 1), ratio: 0.832460732984\n",
      "shape: (3056, 2544, 1), ratio: 0.832460732984\n",
      "shape: (2544, 3056, 1), ratio: 1.20125786164\n",
      "shape: (2544, 2866, 1), ratio: 1.12657232704\n",
      "shape: (2472, 2544, 1), ratio: 1.02912621359\n",
      "shape: (2791, 2488, 1), ratio: 0.891436761018\n",
      "shape: (2544, 3056, 1), ratio: 1.20125786164\n",
      "shape: (3056, 2544, 1), ratio: 0.832460732984\n",
      "shape: (2544, 3056, 1), ratio: 1.20125786164\n",
      "shape: (3056, 2544, 1), ratio: 0.832460732984\n",
      "shape: (3056, 2544, 1), ratio: 0.832460732984\n",
      "shape: (3052, 2544, 1), ratio: 0.833551769332\n",
      "shape: (2987, 2404, 1), ratio: 0.804820890526\n",
      "shape: (2326, 3010, 1), ratio: 1.29406706793\n",
      "shape: (2544, 3056, 1), ratio: 1.20125786164\n",
      "shape: (3056, 2068, 1), ratio: 0.676701570681\n",
      "shape: (3056, 2544, 1), ratio: 0.832460732984\n",
      "shape: (3056, 2544, 1), ratio: 0.832460732984\n",
      "shape: (3056, 2215, 1), ratio: 0.724803664921\n",
      "shape: (2544, 3056, 1), ratio: 1.20125786164\n",
      "shape: (2544, 3056, 1), ratio: 1.20125786164\n",
      "shape: (3056, 2544, 1), ratio: 0.832460732984\n",
      "shape: (3056, 2544, 1), ratio: 0.832460732984\n",
      "shape: (3028, 2544, 1), ratio: 0.840158520476\n",
      "shape: (3028, 2544, 1), ratio: 0.840158520476\n",
      "shape: (2544, 3056, 1), ratio: 1.20125786164\n",
      "shape: (3056, 2544, 1), ratio: 0.832460732984\n",
      "shape: (2544, 3056, 1), ratio: 1.20125786164\n",
      "shape: (2544, 3056, 1), ratio: 1.20125786164\n",
      "shape: (2527, 2544, 1), ratio: 1.00672734468\n",
      "shape: (3056, 2050, 1), ratio: 0.670811518325\n",
      "shape: (3056, 2544, 1), ratio: 0.832460732984\n",
      "shape: (2544, 3056, 1), ratio: 1.20125786164\n",
      "shape: (2856, 2544, 1), ratio: 0.890756302521\n",
      "shape: (3056, 2544, 1), ratio: 0.832460732984\n",
      "shape: (3056, 2544, 1), ratio: 0.832460732984\n",
      "shape: (2856, 2544, 1), ratio: 0.890756302521\n",
      "shape: (3031, 2512, 1), ratio: 0.828769383042\n",
      "shape: (3056, 2544, 1), ratio: 0.832460732984\n",
      "shape: (3056, 2068, 1), ratio: 0.676701570681\n",
      "shape: (2884, 2544, 1), ratio: 0.882108183079\n",
      "shape: (3056, 2544, 1), ratio: 0.832460732984\n"
     ]
    }
   ],
   "source": [
    "x_True = [loadDicom(f) for f in pacemakerFiles_dicom]"
   ]
  },
  {
   "cell_type": "code",
   "execution_count": 82,
   "metadata": {},
   "outputs": [
    {
     "name": "stdout",
     "output_type": "stream",
     "text": [
      "((3056, 2544, 1), '839798/7044227-2186-04-06-1310-POSTERO-ANTERIOR.dcm', 0)\n",
      "((3056, 2544, 1), '2062498/6620966-2190-02-01-1443-ANTERO-POSTERIOR.dcm', 0)\n",
      "((3056, 2544, 1), '2978390/7605927-2180-09-04-1546-POSTERO-ANTERIOR.dcm', 0)\n",
      "((3056, 2544, 1), '2978396/7605961-2174-09-26-1708-POSTERO-ANTERIOR.dcm', 0)\n",
      "((3056, 2544, 1), '1770608/7301576-2189-11-16-0040-POSTERO-ANTERIOR.dcm', 0)\n",
      "((3056, 2544, 1), '470928/7564251-2016-09-07-1227-ANTERO-POSTERIOR.dcm', 0)\n",
      "((3056, 2544, 1), '470928/7564251-2140-08-10-1227-ANTERO-POSTERIOR.dcm', 0)\n",
      "((3056, 2544, 1), '470928/6431754-2013-07-09-1216-POSTERO-ANTERIOR.dcm', 0)\n",
      "((3056, 2544, 1), '470928/6431754-2137-06-11-1216-POSTERO-ANTERIOR.dcm', 0)\n",
      "((3056, 2544, 1), '2309016/6377076-2188-05-30-1728-POSTERO-ANTERIOR.dcm', 0)\n",
      "((3050, 2539, 1), '2457741/6532366-2184-10-18-0727-ANTERO-POSTERIOR.dcm', 0)\n",
      "((2140, 1760, 1), '2457741/6675864-2185-03-25-1223-ANTERO-POSTERIOR.dcm', 0)\n",
      "((2819, 2391, 1), '2457741/6681986-2185-03-31-1739-ANTERO-POSTERIOR.dcm', 0)\n",
      "((2712, 2544, 1), '2103414/7532429-2141-09-04-2349-POSTERO-ANTERIOR.dcm', 0)\n",
      "((2712, 2544, 1), '2103414/7532429-2016-08-06-2349-POSTERO-ANTERIOR.dcm', 0)\n",
      "((3056, 2544, 1), '787581/6116352-2167-07-27-1438-POSTERO-ANTERIOR.dcm', 0)\n",
      "((3056, 2544, 1), '2103411/7638212-2164-11-28-1757-POSTERO-ANTERIOR.dcm', 0)\n",
      "((3056, 2544, 1), '1975558/6757621-2163-06-19-0432-ANTERO-POSTERIOR.dcm', 0)\n",
      "((3056, 2544, 1), '1246681/7295703-2195-01-24-1456-ANTERO-POSTERIOR.dcm', 0)\n",
      "((3056, 2544, 1), '1246681/7283909-2195-01-13-0924-ANTERO-POSTERIOR.dcm', 0)\n",
      "((3056, 2544, 1), '1246681/7298969-2195-01-27-1026-ANTERO-POSTERIOR.dcm', 0)\n",
      "((3056, 2544, 1), '1246681/7274384-2195-01-04-2138-ANTERO-POSTERIOR.dcm', 0)\n",
      "((2022, 1736, 1), '1246681/7217649-2194-11-10-1453-POSTERO-ANTERIOR.dcm', 0)\n",
      "((2544, 3056, 1), '1445043/7209876-2148-08-25-1225-ANTERO-POSTERIOR.dcm', 1)\n",
      "((2022, 1736, 1), '1445043/7266323-2148-10-16-1525-POSTERO-ANTERIOR.dcm', 0)\n",
      "((2544, 3056, 1), '1445043/7210817-2148-08-26-0937-ANTERO-POSTERIOR.dcm', 1)\n",
      "((2544, 3056, 1), '2140652/6607371-2214-01-25-0615-POSTERO-ANTERIOR.dcm', 1)\n",
      "((2544, 3056, 1), '2381494/5900196-2169-11-04-1035-POSTERO-ANTERIOR.dcm', 1)\n",
      "((2544, 3056, 1), '2381494/6244568-2170-11-20-1728-POSTERO-ANTERIOR.dcm', 1)\n",
      "((2544, 3056, 1), '2844829/7018458-2190-02-25-2147-POSTERO-ANTERIOR.dcm', 1)\n",
      "((2235, 2837, 1), '2844829/7018458-2015-03-25-2147-ANTERO-POSTERIOR.dcm', 1)\n",
      "((2544, 3056, 1), '2844829/7018458-2015-03-25-2147-POSTERO-ANTERIOR.dcm', 1)\n",
      "((2235, 2837, 1), '2844829/7018458-2190-02-25-2147-ANTERO-POSTERIOR.dcm', 1)\n",
      "((2544, 3056, 1), '2919839/7342939-2132-02-20-1751-ANTERO-POSTERIOR.dcm', 1)\n",
      "((3056, 2544, 1), '2233496/6001511-2211-04-22-2210-POSTERO-ANTERIOR.dcm', 0)\n",
      "((3056, 2544, 1), '82441/6347157-2164-05-11-0851-ANTERO-POSTERIOR.dcm', 0)\n",
      "((2683, 2539, 1), '82441/6352576-2164-05-17-0724-ANTERO-POSTERIOR.dcm', 0)\n",
      "((2395, 2280, 1), '82441/6348174-2164-05-13-1018-ANTERO-POSTERIOR.dcm', 0)\n",
      "((2510, 2539, 1), '82441/6351460-2164-05-16-0746-ANTERO-POSTERIOR.dcm', 1)\n",
      "((3056, 2544, 1), '82441/6350573-2164-05-15-1147-ANTERO-POSTERIOR.dcm', 0)\n",
      "((3016, 2536, 1), '82441/5974733-2163-03-23-1828-POSTERO-ANTERIOR.dcm', 0)\n",
      "((2741, 2539, 1), '82441/6352051-2164-05-16-1313-ANTERO-POSTERIOR.dcm', 0)\n",
      "((3056, 2544, 1), '82441/6347577-2164-05-12-0944-ANTERO-POSTERIOR.dcm', 0)\n",
      "((3056, 2544, 1), '82441/6114104-2163-08-22-1416-POSTERO-ANTERIOR.dcm', 0)\n",
      "((2854, 2462, 1), '2522940/6043942-2104-05-14-0909-ANTERO-POSTERIOR.dcm', 0)\n",
      "((2544, 3056, 1), '1723338/6302778-2187-03-24-0725-POSTERO-ANTERIOR.dcm', 1)\n",
      "((2544, 3056, 1), '2844824/7018376-2191-02-25-1805-ANTERO-POSTERIOR.dcm', 1)\n",
      "((3056, 2541, 1), '2378239/6659333-2014-03-14-1321-POSTERO-ANTERIOR.dcm', 0)\n",
      "((3056, 2541, 1), '2378239/6659333-2188-02-01-1321-POSTERO-ANTERIOR.dcm', 0)\n",
      "((3056, 2544, 1), '2325190/6394847-2121-06-19-1436-POSTERO-ANTERIOR.dcm', 0)\n",
      "((3056, 2544, 1), '2325190/6394847-2013-05-29-1436-POSTERO-ANTERIOR.dcm', 0)\n",
      "((2544, 3056, 1), '1245131/6502311-2213-09-11-0407-POSTERO-ANTERIOR.dcm', 1)\n",
      "((3056, 2544, 1), '1245131/6059626-2212-05-05-0935-POSTERO-ANTERIOR.dcm', 0)\n",
      "((2022, 1736, 1), '2239231/5965791-2140-02-07-1633-POSTERO-ANTERIOR.dcm', 0)\n",
      "((1926, 1750, 1), '2239231/6794858-2142-08-04-1010-POSTERO-ANTERIOR.dcm', 0)\n",
      "((2021, 2021, 1), '2716021/6568102-2193-10-29-1017-POSTERO-ANTERIOR.dcm', 1)\n",
      "((2021, 2021, 1), '2716021/6568102-2013-12-03-1017-POSTERO-ANTERIOR.dcm', 1)\n",
      "((3056, 2544, 1), '2833712/6993680-2119-03-23-1147-ANTERO-POSTERIOR.dcm', 0)\n",
      "((2544, 3056, 1), '2833712/6974186-2119-02-28-0715-ANTERO-POSTERIOR.dcm', 1)\n",
      "((3056, 2544, 1), '2833712/6981374-2119-03-10-1149-ANTERO-POSTERIOR.dcm', 0)\n",
      "((2544, 3056, 1), '2833712/6992857-2119-03-22-0802-ANTERO-POSTERIOR.dcm', 1)\n",
      "((2539, 3050, 1), '2833712/6977665-2119-03-05-0717-ANTERO-POSTERIOR.dcm', 1)\n",
      "((2539, 3050, 1), '2833712/6974085-2119-02-27-2128-ANTERO-POSTERIOR.dcm', 1)\n",
      "((3050, 2539, 1), '2833712/6982691-2119-03-11-1341-ANTERO-POSTERIOR.dcm', 0)\n",
      "((3014, 2539, 1), '2833712/6981634-2119-03-10-1414-ANTERO-POSTERIOR.dcm', 0)\n",
      "((3056, 2544, 1), '2833712/6981472-2119-03-10-1250-ANTERO-POSTERIOR.dcm', 0)\n",
      "((2539, 2633, 1), '2833712/6980444-2119-03-08-1359-ANTERO-POSTERIOR.dcm', 1)\n",
      "((3050, 2539, 1), '2833712/6992171-2119-03-20-1632-ANTERO-POSTERIOR.dcm', 0)\n",
      "((2539, 3050, 1), '2833712/6992308-2119-03-20-2106-ANTERO-POSTERIOR.dcm', 1)\n",
      "((2366, 2769, 1), '2833712/6974757-2119-03-01-1234-ANTERO-POSTERIOR.dcm', 1)\n",
      "((2539, 3050, 1), '2833712/6972099-2119-02-26-1035-ANTERO-POSTERIOR.dcm', 1)\n",
      "((2544, 3056, 1), '2716022/6533703-2203-10-07-1334-ANTERO-POSTERIOR.dcm', 1)\n",
      "((3056, 2544, 1), '2716022/6536060-2203-10-10-1208-ANTERO-POSTERIOR.dcm', 0)\n",
      "((3056, 2544, 1), '2716022/6536689-2203-10-11-0610-ANTERO-POSTERIOR.dcm', 0)\n",
      "((2544, 3056, 1), '2716022/6533505-2203-10-07-0248-ANTERO-POSTERIOR.dcm', 1)\n",
      "((2544, 3056, 1), '2716022/6540616-2203-10-15-0411-ANTERO-POSTERIOR.dcm', 1)\n",
      "((2544, 3056, 1), '2716022/6533916-2203-10-08-0555-ANTERO-POSTERIOR.dcm', 1)\n",
      "((2417, 2669, 1), '2716022/6539955-2203-10-13-1542-ANTERO-POSTERIOR.dcm', 1)\n"
     ]
    }
   ],
   "source": [
    "noneFiles_dicom = set()\n",
    "x_False = []\n",
    "\n",
    "for patient in patientsFiles.keys()[:30]:\n",
    "    for clipnum in patientsFiles[patient]:\n",
    "        files = patientsFiles[patient][clipnum]\n",
    "        \n",
    "        for f in files:\n",
    "            if not f.endswith('.dcm') or 'LATERAL' in f or 'CHEST' in f: continue\n",
    "            # show_dicom(f)\n",
    "            noneFiles_dicom.add(f)\n",
    "            x_False.append(loadDicom(f))"
   ]
  },
  {
   "cell_type": "code",
   "execution_count": 44,
   "metadata": {},
   "outputs": [
    {
     "data": {
      "text/plain": [
       "set()"
      ]
     },
     "execution_count": 44,
     "metadata": {},
     "output_type": "execute_result"
    }
   ],
   "source": [
    "# Check that there are no overlapping files between the two classes\n",
    "set(pacemakerFiles_dicom) & noneFiles_dicom"
   ]
  },
  {
   "cell_type": "code",
   "execution_count": 45,
   "metadata": {},
   "outputs": [
    {
     "name": "stdout",
     "output_type": "stream",
     "text": [
      "(60, 78)\n"
     ]
    }
   ],
   "source": [
    "print(len(x_True), len(x_False))\n",
    "y_True = [1]*len(x_True)\n",
    "y_False = [0]*len(x_False)"
   ]
  },
  {
   "cell_type": "code",
   "execution_count": 51,
   "metadata": {},
   "outputs": [
    {
     "data": {
      "text/plain": [
       "60"
      ]
     },
     "execution_count": 51,
     "metadata": {},
     "output_type": "execute_result"
    }
   ],
   "source": [
    "len(x_True)"
   ]
  },
  {
   "cell_type": "code",
   "execution_count": 54,
   "metadata": {},
   "outputs": [
    {
     "data": {
      "text/plain": [
       "((138,), (138,))"
      ]
     },
     "execution_count": 54,
     "metadata": {},
     "output_type": "execute_result"
    }
   ],
   "source": [
    "X = np.array(x_True + x_False)\n",
    "Y = np.array(y_True + y_False)\n",
    "X.shape, Y.shape"
   ]
  }
 ],
 "metadata": {
  "kernelspec": {
   "display_name": "Python2 (venv)",
   "language": "python",
   "name": "venv"
  },
  "language_info": {
   "codemirror_mode": {
    "name": "ipython",
    "version": 2
   },
   "file_extension": ".py",
   "mimetype": "text/x-python",
   "name": "python",
   "nbconvert_exporter": "python",
   "pygments_lexer": "ipython2",
   "version": "2.7.12"
  }
 },
 "nbformat": 4,
 "nbformat_minor": 2
}
